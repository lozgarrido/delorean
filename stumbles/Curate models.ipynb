{
 "cells": [
  {
   "cell_type": "code",
   "execution_count": null,
   "metadata": {},
   "outputs": [],
   "source": [
    "#Create a models list\n",
    "found_models = sorted(list(cars_price['model'].unique()))\n",
    "print('Models found:', models[50:])\n",
    "\n",
    "#Manual curated models\n",
    "ford_models = ['f150', 'f250', 'f350', 'f450', 'f550', 'f600', 'f650', 'f700', 'f750', 'f800']\n",
    "print('Models found:', models[50:])"
   ]
  }
 ],
 "metadata": {
  "kernelspec": {
   "display_name": "Python 3",
   "language": "python",
   "name": "python3"
  },
  "language_info": {
   "codemirror_mode": {
    "name": "ipython",
    "version": 3
   },
   "file_extension": ".py",
   "mimetype": "text/x-python",
   "name": "python",
   "nbconvert_exporter": "python",
   "pygments_lexer": "ipython3",
   "version": "3.7.3"
  }
 },
 "nbformat": 4,
 "nbformat_minor": 2
}
