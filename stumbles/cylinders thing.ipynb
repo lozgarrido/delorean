{
 "cells": [
  {
   "cell_type": "code",
   "execution_count": null,
   "metadata": {},
   "outputs": [],
   "source": [
    "#Clean words in 'cylinders' column\n",
    "cars_price['cylinders'] = cars_price.cylinders.replace({r'.*(\\d+).*': r'\\1'}, regex=True)\n",
    "\n",
    "#Remove 'other' number of cylinders\n",
    "cars_price['cylinders'] = cars_price.cylinders.replace({r'other': np.nan}, regex=True)\n",
    "\n",
    "#Insert '0' number of cylinders when fuel is 'electric'\n",
    "cars_price.loc[cars_price.fuel == 'electric', 'cylinders'] = 0\n",
    "\n",
    "#Insert 'electric' fuel when number of cylinders is '0'\n",
    "cars_price.loc[cars_price.cylinders == 0, 'fuel'] = 'electric'\n",
    "\n",
    "#Drop rows where 'fuel' is empty\n",
    "cars_price.dropna(subset=['fuel'], inplace=True)\n",
    "\n",
    "#Convert 'cylinders' column to int\n",
    "cars_price['cylinders'] = cars_price['cylinders'].astype(float)\n",
    "\n",
    "cars_price.head()"
   ]
  }
 ],
 "metadata": {
  "kernelspec": {
   "display_name": "Python 3",
   "language": "python",
   "name": "python3"
  },
  "language_info": {
   "codemirror_mode": {
    "name": "ipython",
    "version": 3
   },
   "file_extension": ".py",
   "mimetype": "text/x-python",
   "name": "python",
   "nbconvert_exporter": "python",
   "pygments_lexer": "ipython3",
   "version": "3.7.3"
  }
 },
 "nbformat": 4,
 "nbformat_minor": 2
}
