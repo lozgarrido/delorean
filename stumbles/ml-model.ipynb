{
 "cells": [
  {
   "cell_type": "markdown",
   "metadata": {},
   "source": [
    "# DeLorean\n",
    "## im quite tired atm tbh"
   ]
  },
  {
   "cell_type": "markdown",
   "metadata": {},
   "source": [
    "### 1. Setup workspace"
   ]
  },
  {
   "cell_type": "code",
   "execution_count": 1,
   "metadata": {},
   "outputs": [],
   "source": [
    "import pandas as pd\n",
    "import numpy as np\n",
    "import re\n",
    "\n",
    "#Append folder for custom libraries\n",
    "import sys\n",
    "sys.path.append('libraries')\n",
    "\n",
    "#Import custom library\n",
    "import shinypanda\n",
    "\n",
    "cars_price = pd.read_csv('data/cars_test.csv')"
   ]
  },
  {
   "cell_type": "markdown",
   "metadata": {},
   "source": [
    "### 2. Explore the dataset"
   ]
  },
  {
   "cell_type": "code",
   "execution_count": 2,
   "metadata": {},
   "outputs": [
    {
     "data": {
      "text/html": [
       "<div>\n",
       "<style scoped>\n",
       "    .dataframe tbody tr th:only-of-type {\n",
       "        vertical-align: middle;\n",
       "    }\n",
       "\n",
       "    .dataframe tbody tr th {\n",
       "        vertical-align: top;\n",
       "    }\n",
       "\n",
       "    .dataframe thead th {\n",
       "        text-align: right;\n",
       "    }\n",
       "</style>\n",
       "<table border=\"1\" class=\"dataframe\">\n",
       "  <thead>\n",
       "    <tr style=\"text-align: right;\">\n",
       "      <th></th>\n",
       "      <th>Id</th>\n",
       "      <th>city</th>\n",
       "      <th>year</th>\n",
       "      <th>manufacturer</th>\n",
       "      <th>make</th>\n",
       "      <th>condition</th>\n",
       "      <th>cylinders</th>\n",
       "      <th>fuel</th>\n",
       "      <th>odometer</th>\n",
       "      <th>title_status</th>\n",
       "      <th>...</th>\n",
       "      <th>type</th>\n",
       "      <th>paint_color</th>\n",
       "      <th>lat</th>\n",
       "      <th>long</th>\n",
       "      <th>county_fips</th>\n",
       "      <th>county_name</th>\n",
       "      <th>state_fips</th>\n",
       "      <th>state_code</th>\n",
       "      <th>state_name</th>\n",
       "      <th>weather</th>\n",
       "    </tr>\n",
       "  </thead>\n",
       "  <tbody>\n",
       "    <tr>\n",
       "      <th>0</th>\n",
       "      <td>974298</td>\n",
       "      <td>duluth</td>\n",
       "      <td>2006.0</td>\n",
       "      <td>ford</td>\n",
       "      <td>f-250 super duty</td>\n",
       "      <td>good</td>\n",
       "      <td>8 cylinders</td>\n",
       "      <td>gas</td>\n",
       "      <td>154400.0</td>\n",
       "      <td>clean</td>\n",
       "      <td>...</td>\n",
       "      <td>pickup</td>\n",
       "      <td>white</td>\n",
       "      <td>47.746524</td>\n",
       "      <td>-90.357742</td>\n",
       "      <td>27031.0</td>\n",
       "      <td>Cook</td>\n",
       "      <td>27.0</td>\n",
       "      <td>MN</td>\n",
       "      <td>Minnesota</td>\n",
       "      <td>43.0</td>\n",
       "    </tr>\n",
       "    <tr>\n",
       "      <th>1</th>\n",
       "      <td>1051884</td>\n",
       "      <td>kansascity</td>\n",
       "      <td>1987.0</td>\n",
       "      <td>chevrolet</td>\n",
       "      <td>NaN</td>\n",
       "      <td>NaN</td>\n",
       "      <td>NaN</td>\n",
       "      <td>gas</td>\n",
       "      <td>NaN</td>\n",
       "      <td>clean</td>\n",
       "      <td>...</td>\n",
       "      <td>NaN</td>\n",
       "      <td>NaN</td>\n",
       "      <td>38.373182</td>\n",
       "      <td>-93.776859</td>\n",
       "      <td>29083.0</td>\n",
       "      <td>Henry/Rives</td>\n",
       "      <td>29.0</td>\n",
       "      <td>MO</td>\n",
       "      <td>Missouri</td>\n",
       "      <td>52.0</td>\n",
       "    </tr>\n",
       "    <tr>\n",
       "      <th>2</th>\n",
       "      <td>684464</td>\n",
       "      <td>palmsprings</td>\n",
       "      <td>2010.0</td>\n",
       "      <td>jeep</td>\n",
       "      <td>liberty sport</td>\n",
       "      <td>NaN</td>\n",
       "      <td>6 cylinders</td>\n",
       "      <td>gas</td>\n",
       "      <td>127722.0</td>\n",
       "      <td>clean</td>\n",
       "      <td>...</td>\n",
       "      <td>SUV</td>\n",
       "      <td>NaN</td>\n",
       "      <td>33.741059</td>\n",
       "      <td>-116.356434</td>\n",
       "      <td>6065.0</td>\n",
       "      <td>Riverside</td>\n",
       "      <td>6.0</td>\n",
       "      <td>CA</td>\n",
       "      <td>California</td>\n",
       "      <td>59.0</td>\n",
       "    </tr>\n",
       "    <tr>\n",
       "      <th>3</th>\n",
       "      <td>1255387</td>\n",
       "      <td>sanmarcos</td>\n",
       "      <td>2003.0</td>\n",
       "      <td>chevrolet</td>\n",
       "      <td>tahoe</td>\n",
       "      <td>fair</td>\n",
       "      <td>8 cylinders</td>\n",
       "      <td>gas</td>\n",
       "      <td>NaN</td>\n",
       "      <td>clean</td>\n",
       "      <td>...</td>\n",
       "      <td>SUV</td>\n",
       "      <td>white</td>\n",
       "      <td>30.026266</td>\n",
       "      <td>-98.133363</td>\n",
       "      <td>48209.0</td>\n",
       "      <td>Hays</td>\n",
       "      <td>48.0</td>\n",
       "      <td>TX</td>\n",
       "      <td>Texas</td>\n",
       "      <td>67.0</td>\n",
       "    </tr>\n",
       "    <tr>\n",
       "      <th>4</th>\n",
       "      <td>1195520</td>\n",
       "      <td>tampa</td>\n",
       "      <td>2006.0</td>\n",
       "      <td>lexus</td>\n",
       "      <td>gs 300</td>\n",
       "      <td>NaN</td>\n",
       "      <td>NaN</td>\n",
       "      <td>gas</td>\n",
       "      <td>NaN</td>\n",
       "      <td>clean</td>\n",
       "      <td>...</td>\n",
       "      <td>NaN</td>\n",
       "      <td>NaN</td>\n",
       "      <td>27.868800</td>\n",
       "      <td>-82.734400</td>\n",
       "      <td>12103.0</td>\n",
       "      <td>Pinellas</td>\n",
       "      <td>12.0</td>\n",
       "      <td>FL</td>\n",
       "      <td>Florida</td>\n",
       "      <td>65.0</td>\n",
       "    </tr>\n",
       "  </tbody>\n",
       "</table>\n",
       "<p>5 rows × 23 columns</p>\n",
       "</div>"
      ],
      "text/plain": [
       "        Id         city    year manufacturer              make condition  \\\n",
       "0   974298       duluth  2006.0         ford  f-250 super duty      good   \n",
       "1  1051884   kansascity  1987.0    chevrolet               NaN       NaN   \n",
       "2   684464  palmsprings  2010.0         jeep     liberty sport       NaN   \n",
       "3  1255387    sanmarcos  2003.0    chevrolet             tahoe      fair   \n",
       "4  1195520        tampa  2006.0        lexus            gs 300       NaN   \n",
       "\n",
       "     cylinders fuel  odometer title_status  ...    type paint_color  \\\n",
       "0  8 cylinders  gas  154400.0        clean  ...  pickup       white   \n",
       "1          NaN  gas       NaN        clean  ...     NaN         NaN   \n",
       "2  6 cylinders  gas  127722.0        clean  ...     SUV         NaN   \n",
       "3  8 cylinders  gas       NaN        clean  ...     SUV       white   \n",
       "4          NaN  gas       NaN        clean  ...     NaN         NaN   \n",
       "\n",
       "         lat        long county_fips  county_name  state_fips  state_code  \\\n",
       "0  47.746524  -90.357742     27031.0         Cook        27.0          MN   \n",
       "1  38.373182  -93.776859     29083.0  Henry/Rives        29.0          MO   \n",
       "2  33.741059 -116.356434      6065.0    Riverside         6.0          CA   \n",
       "3  30.026266  -98.133363     48209.0         Hays        48.0          TX   \n",
       "4  27.868800  -82.734400     12103.0     Pinellas        12.0          FL   \n",
       "\n",
       "   state_name  weather  \n",
       "0   Minnesota     43.0  \n",
       "1    Missouri     52.0  \n",
       "2  California     59.0  \n",
       "3       Texas     67.0  \n",
       "4     Florida     65.0  \n",
       "\n",
       "[5 rows x 23 columns]"
      ]
     },
     "execution_count": 2,
     "metadata": {},
     "output_type": "execute_result"
    }
   ],
   "source": [
    "#Head of the dataframe\n",
    "cars_price.head()"
   ]
  },
  {
   "cell_type": "code",
   "execution_count": 3,
   "metadata": {},
   "outputs": [
    {
     "data": {
      "text/plain": [
       "Id              253073\n",
       "city            253073\n",
       "year            252162\n",
       "manufacturer    233025\n",
       "make            242961\n",
       "condition       150378\n",
       "cylinders       151927\n",
       "fuel            251490\n",
       "odometer        169963\n",
       "title_status    252700\n",
       "transmission    251723\n",
       "drive           156207\n",
       "size             88234\n",
       "type            150050\n",
       "paint_color     151286\n",
       "lat             253073\n",
       "long            253073\n",
       "county_fips     244441\n",
       "county_name     244441\n",
       "state_fips      244441\n",
       "state_code      244441\n",
       "state_name      253073\n",
       "weather         244357\n",
       "dtype: int64"
      ]
     },
     "execution_count": 3,
     "metadata": {},
     "output_type": "execute_result"
    }
   ],
   "source": [
    "cars_price.count()"
   ]
  },
  {
   "cell_type": "code",
   "execution_count": 4,
   "metadata": {},
   "outputs": [],
   "source": [
    "#Type of data\n",
    "#cars_price.dtypes"
   ]
  },
  {
   "cell_type": "code",
   "execution_count": 5,
   "metadata": {
    "scrolled": true
   },
   "outputs": [],
   "source": [
    "#Descriptive stats\n",
    "#cars_price.describe()"
   ]
  },
  {
   "cell_type": "markdown",
   "metadata": {},
   "source": [
    "### 3. Data cleaning\n",
    "#### In order to use sklearn algorithms, the entire dataset must contain operable numerical data"
   ]
  },
  {
   "cell_type": "markdown",
   "metadata": {},
   "source": [
    "#### 3.1 Setup dataframe"
   ]
  },
  {
   "cell_type": "code",
   "execution_count": 6,
   "metadata": {},
   "outputs": [
    {
     "data": {
      "text/html": [
       "<div>\n",
       "<style scoped>\n",
       "    .dataframe tbody tr th:only-of-type {\n",
       "        vertical-align: middle;\n",
       "    }\n",
       "\n",
       "    .dataframe tbody tr th {\n",
       "        vertical-align: top;\n",
       "    }\n",
       "\n",
       "    .dataframe thead th {\n",
       "        text-align: right;\n",
       "    }\n",
       "</style>\n",
       "<table border=\"1\" class=\"dataframe\">\n",
       "  <thead>\n",
       "    <tr style=\"text-align: right;\">\n",
       "      <th></th>\n",
       "      <th>year</th>\n",
       "      <th>brand</th>\n",
       "      <th>model</th>\n",
       "      <th>fuel</th>\n",
       "      <th>title_status</th>\n",
       "      <th>transmission</th>\n",
       "    </tr>\n",
       "  </thead>\n",
       "  <tbody>\n",
       "    <tr>\n",
       "      <th>0</th>\n",
       "      <td>2006.0</td>\n",
       "      <td>ford</td>\n",
       "      <td>f-250 super duty</td>\n",
       "      <td>gas</td>\n",
       "      <td>clean</td>\n",
       "      <td>automatic</td>\n",
       "    </tr>\n",
       "    <tr>\n",
       "      <th>1</th>\n",
       "      <td>1987.0</td>\n",
       "      <td>chevrolet</td>\n",
       "      <td>NaN</td>\n",
       "      <td>gas</td>\n",
       "      <td>clean</td>\n",
       "      <td>automatic</td>\n",
       "    </tr>\n",
       "    <tr>\n",
       "      <th>2</th>\n",
       "      <td>2010.0</td>\n",
       "      <td>jeep</td>\n",
       "      <td>liberty sport</td>\n",
       "      <td>gas</td>\n",
       "      <td>clean</td>\n",
       "      <td>automatic</td>\n",
       "    </tr>\n",
       "    <tr>\n",
       "      <th>3</th>\n",
       "      <td>2003.0</td>\n",
       "      <td>chevrolet</td>\n",
       "      <td>tahoe</td>\n",
       "      <td>gas</td>\n",
       "      <td>clean</td>\n",
       "      <td>automatic</td>\n",
       "    </tr>\n",
       "    <tr>\n",
       "      <th>4</th>\n",
       "      <td>2006.0</td>\n",
       "      <td>lexus</td>\n",
       "      <td>gs 300</td>\n",
       "      <td>gas</td>\n",
       "      <td>clean</td>\n",
       "      <td>automatic</td>\n",
       "    </tr>\n",
       "  </tbody>\n",
       "</table>\n",
       "</div>"
      ],
      "text/plain": [
       "     year      brand             model fuel title_status transmission\n",
       "0  2006.0       ford  f-250 super duty  gas        clean    automatic\n",
       "1  1987.0  chevrolet               NaN  gas        clean    automatic\n",
       "2  2010.0       jeep     liberty sport  gas        clean    automatic\n",
       "3  2003.0  chevrolet             tahoe  gas        clean    automatic\n",
       "4  2006.0      lexus            gs 300  gas        clean    automatic"
      ]
     },
     "execution_count": 6,
     "metadata": {},
     "output_type": "execute_result"
    }
   ],
   "source": [
    "#Remove all location info but State Code (could affect to taxes)\n",
    "location_columns = ['city', 'lat', 'long', 'county_fips', 'county_name', 'state_fips', 'state_code', 'state_name']\n",
    "cars_price = cars_price.drop(columns=location_columns, axis=1)\n",
    "\n",
    "#Remove not relevant or unknown columns\n",
    "cars_price = cars_price.drop(columns=['Id', 'weather'], axis=1)\n",
    "\n",
    "#Remove unpopulated columns\n",
    "cars_price = cars_price.drop(columns=['drive', 'size', 'type', 'paint_color', 'condition', 'cylinders', 'odometer'], axis=1)\n",
    "\n",
    "#Rename columns\n",
    "cars_price.rename(columns={'manufacturer':'brand', 'make':'model'}, inplace=True)\n",
    "\n",
    "#Replace empty years with average year\n",
    "mean_year = round(cars_price['year'].mean())\n",
    "cars_price['year'] = cars_price['year'].replace(np.nan, mean_year)\n",
    "\n",
    "cars_price.head()"
   ]
  },
  {
   "cell_type": "markdown",
   "metadata": {},
   "source": [
    "#### 3.2 Clean 'brand' column"
   ]
  },
  {
   "cell_type": "code",
   "execution_count": 7,
   "metadata": {},
   "outputs": [
    {
     "name": "stdout",
     "output_type": "stream",
     "text": [
      "Original brands list: ['acura', 'alfa', 'alfa-romeo', 'aston', 'aston-martin', 'audi', 'bmw', 'buick', 'cadillac', 'chev', 'chevrolet', 'chevy', 'chrysler', 'datsun', 'dodge', 'ferrari', 'fiat', 'ford', 'gmc', 'harley', 'harley-davidson', 'honda', 'hyundai', 'infiniti', 'infinity', 'jaguar', 'jeep', 'kia', 'land rover', 'landrover', 'lexus', 'lincoln', 'mazda', 'mercedes', 'mercedes-benz', 'mercedesbenz', 'mercury', 'mini', 'mitsubishi', 'morgan', 'nan', 'nissan', 'pontiac', 'porche', 'ram', 'rover', 'saturn', 'subaru', 'toyota', 'volkswagen', 'volvo', 'vw']\n"
     ]
    }
   ],
   "source": [
    "#Transform column type from 'object' to string\n",
    "cars_price['brand'] = cars_price['brand'].astype('str') \n",
    "\n",
    "brands = sorted(cars_price.brand.unique())\n",
    "print('Original brands list:', brands)"
   ]
  },
  {
   "cell_type": "code",
   "execution_count": 8,
   "metadata": {},
   "outputs": [
    {
     "name": "stdout",
     "output_type": "stream",
     "text": [
      "Clean brands list: ['acura', 'alfa-romeo', 'aston-martin', 'audi', 'bmw', 'buick', 'cadillac', 'chevrolet', 'chrysler', 'datsun', 'dodge', 'ferrari', 'fiat', 'ford', 'gmc', 'harley-davidson', 'honda', 'hyundai', 'infiniti', 'jaguar', 'jeep', 'kia', 'land-rover', 'lexus', 'lincoln', 'mazda', 'mercedes-benz', 'mercedes-benzbenz', 'mercury', 'mini', 'mitsubishi', 'morgan', 'nissan', 'pontiac', 'porsche', 'ram', 'saturn', 'subaru', 'toyota', 'volkswagen', 'volvo']\n"
     ]
    }
   ],
   "source": [
    "#Remove NaN\n",
    "cars_price['brand'] = cars_price.brand.replace({r'nan': ''}, regex=True)\n",
    "\n",
    "#Fix duplicity: 'alfa' and 'alfa-romeo'\n",
    "cars_price['brand'] = cars_price.brand.replace({r'alfa-romeo': 'alfa'}, regex=True)\n",
    "cars_price['brand'] = cars_price.brand.replace({r'alfa': 'alfa-romeo'}, regex=True)\n",
    "\n",
    "#Fix duplicity: 'aston' and 'aston-martin'\n",
    "cars_price['brand'] = cars_price.brand.replace({r'aston-martin': 'aston'}, regex=True)\n",
    "cars_price['brand'] = cars_price.brand.replace({r'aston': 'aston-martin'}, regex=True)\n",
    "\n",
    "#Fix duplicity: 'chev', 'chevy' and 'aston-martin'\n",
    "cars_price['brand'] = cars_price.brand.replace({r'chevrolet': 'chev'}, regex=True)\n",
    "cars_price['brand'] = cars_price.brand.replace({r'chevy': 'chev'}, regex=True)\n",
    "cars_price['brand'] = cars_price.brand.replace({r'chev': 'chevrolet'}, regex=True)\n",
    "\n",
    "#Fix duplicity: 'harley' and 'harley-davidson'\n",
    "cars_price['brand'] = cars_price.brand.replace({r'harley-davidson': 'harley'}, regex=True)\n",
    "cars_price['brand'] = cars_price.brand.replace({r'harley': 'harley-davidson'}, regex=True)\n",
    "\n",
    "#Fix misspelling: 'infinity' instead of 'infinity'\n",
    "cars_price['brand'] = cars_price.brand.replace({r'infinity': 'infiniti'}, regex=True)\n",
    "\n",
    "#Fix duplicity: 'rover', 'landrover' and 'land rover'\n",
    "cars_price['brand'] = cars_price.brand.replace({r'landrover': 'land-rovex'}, regex=True)\n",
    "cars_price['brand'] = cars_price.brand.replace({r'land rover': 'land-rovex'}, regex=True)\n",
    "cars_price['brand'] = cars_price.brand.replace({r'rover': 'land-rovex'}, regex=True)\n",
    "cars_price['brand'] = cars_price.brand.replace({r'land-rovex': 'land-rover'}, regex=True)\n",
    "\n",
    "#Fix duplicity: 'landrover' and 'land rover'\n",
    "cars_price['brand'] = cars_price.brand.replace({r'mercedes-benz': 'mercedes'}, regex=True)\n",
    "cars_price['brand'] = cars_price.brand.replace({r'mercedes': 'mercedes-benz'}, regex=True)\n",
    "\n",
    "#Fix misspelling: 'porsche' instead of 'porche'\n",
    "cars_price['brand'] = cars_price.brand.replace({r'porche': 'porsche'}, regex=True)\n",
    "\n",
    "#Fix duplicity: 'vw' and 'volkswagen'\n",
    "cars_price['brand'] = cars_price.brand.replace({r'vw': 'volkswagen'}, regex=True)\n",
    "\n",
    "brands = sorted(cars_price.brand.unique())[1:] #[1:] is used to remove empty string ''\n",
    "print('Clean brands list:', brands)"
   ]
  },
  {
   "cell_type": "markdown",
   "metadata": {},
   "source": [
    "#### 3.3 Clean 'model' column"
   ]
  },
  {
   "cell_type": "code",
   "execution_count": 9,
   "metadata": {},
   "outputs": [
    {
     "name": "stdout",
     "output_type": "stream",
     "text": [
      "Expanded brands list: ['acura', 'alfa-romeo', 'aston-martin', 'audi', 'bmw', 'buick', 'cadillac', 'chevrolet', 'chrysler', 'datsun', 'dodge', 'ferrari', 'fiat', 'ford', 'gmc', 'harley-davidson', 'honda', 'hyundai', 'infiniti', 'jaguar', 'jeep', 'kia', 'land-rover', 'lexus', 'lincoln', 'mazda', 'mercedes-benz', 'mercedes-benzbenz', 'mercury', 'mini', 'mitsubishi', 'morgan', 'nissan', 'pontiac', 'porsche', 'ram', 'saturn', 'subaru', 'toyota', 'volkswagen', 'volvo', 'nissan', 'lamborghini', 'mustang', 'suzuki', 'kawasaki', 'scion']\n"
     ]
    }
   ],
   "source": [
    "#Transform column type from 'object' to string and make it lowercase\n",
    "cars_price['model'] = cars_price['model'].astype('str').str.lower()\n",
    "\n",
    "#Fix detected misspelling\n",
    "cars_price['model'] = cars_price.model.replace({r'chervolet': 'chevrolet'}, regex=True)\n",
    "cars_price['model'] = cars_price.model.replace({r'cheverolet': 'chevrolet'}, regex=True)\n",
    "cars_price['model'] = cars_price.model.replace({r'volksvagen': 'volkswagen'}, regex=True)\n",
    "cars_price['model'] = cars_price.model.replace({r'volkswagon': 'volkswagen'}, regex=True)\n",
    "cars_price['model'] = cars_price.model.replace({r'mercedes-benzbenz': 'mercedes-benz'}, regex=True)\n",
    "cars_price['model'] = cars_price.model.replace({r'benz': 'mercedes-benz'}, regex=True)\n",
    "cars_price['model'] = cars_price.model.replace({r'nissaan': 'nissan'}, regex=True)\n",
    "cars_price['model'] = cars_price.model.replace({r'totota': 'toyota'}, regex=True)\n",
    "cars_price['model'] = cars_price.model.replace({r'suburu': 'subaru'}, regex=True)\n",
    "cars_price['model'] = cars_price.model.replace({r'crystler': 'chrysler'}, regex=True)\n",
    "\n",
    "#Add new brands listed in 'model' to 'brands' list\n",
    "brands.extend(['nissan', 'lamborghini', 'mustang', 'suzuki', 'kawasaki', 'scion'])\n",
    "print('Expanded brands list:', brands)"
   ]
  },
  {
   "cell_type": "code",
   "execution_count": 10,
   "metadata": {},
   "outputs": [
    {
     "name": "stdout",
     "output_type": "stream",
     "text": [
      "Brands found in 'model' column: ['chevrolet', 'chrysler', 'kawasaki', 'lamborghini', 'mercedes-benz', 'mustang', 'porsche', 'scion', 'subaru', 'suzuki', 'toyota', 'volkswagen']\n"
     ]
    }
   ],
   "source": [
    "#Split 'model' data\n",
    "cars_price['extracted_brand'] = cars_price[\"model\"].str.split(\" \", n=-1, expand=False) \n",
    "\n",
    "#When 'model' contains a string that already exists in 'brands', export it in a new column\n",
    "def brand_in_model(row):\n",
    "    \n",
    "    brand = list(set(row['extracted_brand']).intersection(brands))\n",
    "    return brand\n",
    "\n",
    "#Apply the function and convert column to string again\n",
    "cars_price['extracted_brand'] = cars_price.apply(lambda row: brand_in_model(row), axis=1)\n",
    "cars_price['extracted_brand'] = cars_price['extracted_brand'].apply(lambda brand: ','.join(map(str, brand)))\n",
    "\n",
    "#Split 'extracted brand' to preserve only the first match with brands list\n",
    "split_brand = cars_price['extracted_brand'].str.split(',', n=1, expand=True)\n",
    "cars_price['extracted_brand'] = split_brand[0]\n",
    "\n",
    "found_brands = sorted(cars_price['extracted_brand'].unique())[1:] #[1:] is used to remove empty string ''\n",
    "print('Brands found in \\'model\\' column:', found_brands)"
   ]
  },
  {
   "cell_type": "code",
   "execution_count": 11,
   "metadata": {},
   "outputs": [
    {
     "data": {
      "text/html": [
       "<div>\n",
       "<style scoped>\n",
       "    .dataframe tbody tr th:only-of-type {\n",
       "        vertical-align: middle;\n",
       "    }\n",
       "\n",
       "    .dataframe tbody tr th {\n",
       "        vertical-align: top;\n",
       "    }\n",
       "\n",
       "    .dataframe thead th {\n",
       "        text-align: right;\n",
       "    }\n",
       "</style>\n",
       "<table border=\"1\" class=\"dataframe\">\n",
       "  <thead>\n",
       "    <tr style=\"text-align: right;\">\n",
       "      <th></th>\n",
       "      <th>year</th>\n",
       "      <th>brand</th>\n",
       "      <th>model</th>\n",
       "      <th>fuel</th>\n",
       "      <th>title_status</th>\n",
       "      <th>transmission</th>\n",
       "      <th>extracted_brand</th>\n",
       "    </tr>\n",
       "  </thead>\n",
       "  <tbody>\n",
       "    <tr>\n",
       "      <th>16</th>\n",
       "      <td>1986.0</td>\n",
       "      <td></td>\n",
       "      <td>porsche 944 turbo (951)</td>\n",
       "      <td>gas</td>\n",
       "      <td>clean</td>\n",
       "      <td>manual</td>\n",
       "      <td>porsche</td>\n",
       "    </tr>\n",
       "    <tr>\n",
       "      <th>47</th>\n",
       "      <td>2008.0</td>\n",
       "      <td></td>\n",
       "      <td>porsche cayman s</td>\n",
       "      <td>gas</td>\n",
       "      <td>clean</td>\n",
       "      <td>manual</td>\n",
       "      <td>porsche</td>\n",
       "    </tr>\n",
       "    <tr>\n",
       "      <th>63</th>\n",
       "      <td>1995.0</td>\n",
       "      <td></td>\n",
       "      <td>porsche 911</td>\n",
       "      <td>gas</td>\n",
       "      <td>clean</td>\n",
       "      <td>other</td>\n",
       "      <td>porsche</td>\n",
       "    </tr>\n",
       "    <tr>\n",
       "      <th>101</th>\n",
       "      <td>2003.0</td>\n",
       "      <td></td>\n",
       "      <td>porsche boxster</td>\n",
       "      <td>gas</td>\n",
       "      <td>clean</td>\n",
       "      <td>automatic</td>\n",
       "      <td>porsche</td>\n",
       "    </tr>\n",
       "    <tr>\n",
       "      <th>103</th>\n",
       "      <td>2014.0</td>\n",
       "      <td></td>\n",
       "      <td>mustang</td>\n",
       "      <td>other</td>\n",
       "      <td>parts only</td>\n",
       "      <td>other</td>\n",
       "      <td>mustang</td>\n",
       "    </tr>\n",
       "  </tbody>\n",
       "</table>\n",
       "</div>"
      ],
      "text/plain": [
       "       year brand                    model   fuel title_status transmission  \\\n",
       "16   1986.0        porsche 944 turbo (951)    gas        clean       manual   \n",
       "47   2008.0               porsche cayman s    gas        clean       manual   \n",
       "63   1995.0                    porsche 911    gas        clean        other   \n",
       "101  2003.0                porsche boxster    gas        clean    automatic   \n",
       "103  2014.0                        mustang  other   parts only        other   \n",
       "\n",
       "    extracted_brand  \n",
       "16          porsche  \n",
       "47          porsche  \n",
       "63          porsche  \n",
       "101         porsche  \n",
       "103         mustang  "
      ]
     },
     "execution_count": 11,
     "metadata": {},
     "output_type": "execute_result"
    }
   ],
   "source": [
    "#Show new content in table\n",
    "brand_in_model = cars_price['extracted_brand']!=''\n",
    "empty_brand = cars_price['brand']==''\n",
    "\n",
    "cars_price[empty_brand & brand_in_model].head()"
   ]
  },
  {
   "cell_type": "code",
   "execution_count": 12,
   "metadata": {},
   "outputs": [
    {
     "data": {
      "text/html": [
       "<div>\n",
       "<style scoped>\n",
       "    .dataframe tbody tr th:only-of-type {\n",
       "        vertical-align: middle;\n",
       "    }\n",
       "\n",
       "    .dataframe tbody tr th {\n",
       "        vertical-align: top;\n",
       "    }\n",
       "\n",
       "    .dataframe thead th {\n",
       "        text-align: right;\n",
       "    }\n",
       "</style>\n",
       "<table border=\"1\" class=\"dataframe\">\n",
       "  <thead>\n",
       "    <tr style=\"text-align: right;\">\n",
       "      <th></th>\n",
       "      <th>year</th>\n",
       "      <th>brand</th>\n",
       "      <th>fuel</th>\n",
       "      <th>title_status</th>\n",
       "      <th>transmission</th>\n",
       "    </tr>\n",
       "  </thead>\n",
       "  <tbody>\n",
       "    <tr>\n",
       "      <th>0</th>\n",
       "      <td>2006.0</td>\n",
       "      <td>ford</td>\n",
       "      <td>gas</td>\n",
       "      <td>clean</td>\n",
       "      <td>automatic</td>\n",
       "    </tr>\n",
       "    <tr>\n",
       "      <th>1</th>\n",
       "      <td>1987.0</td>\n",
       "      <td>chevrolet</td>\n",
       "      <td>gas</td>\n",
       "      <td>clean</td>\n",
       "      <td>automatic</td>\n",
       "    </tr>\n",
       "    <tr>\n",
       "      <th>2</th>\n",
       "      <td>2010.0</td>\n",
       "      <td>jeep</td>\n",
       "      <td>gas</td>\n",
       "      <td>clean</td>\n",
       "      <td>automatic</td>\n",
       "    </tr>\n",
       "    <tr>\n",
       "      <th>3</th>\n",
       "      <td>2003.0</td>\n",
       "      <td>chevrolet</td>\n",
       "      <td>gas</td>\n",
       "      <td>clean</td>\n",
       "      <td>automatic</td>\n",
       "    </tr>\n",
       "    <tr>\n",
       "      <th>4</th>\n",
       "      <td>2006.0</td>\n",
       "      <td>lexus</td>\n",
       "      <td>gas</td>\n",
       "      <td>clean</td>\n",
       "      <td>automatic</td>\n",
       "    </tr>\n",
       "  </tbody>\n",
       "</table>\n",
       "</div>"
      ],
      "text/plain": [
       "     year      brand fuel title_status transmission\n",
       "0  2006.0       ford  gas        clean    automatic\n",
       "1  1987.0  chevrolet  gas        clean    automatic\n",
       "2  2010.0       jeep  gas        clean    automatic\n",
       "3  2003.0  chevrolet  gas        clean    automatic\n",
       "4  2006.0      lexus  gas        clean    automatic"
      ]
     },
     "execution_count": 12,
     "metadata": {},
     "output_type": "execute_result"
    }
   ],
   "source": [
    "#Where 'brand' is empty, replace it with 'extracted_brand'\n",
    "def complete_brand(row):\n",
    "    \n",
    "    brand_doesnt_exist = row['brand']==''\n",
    "    extracted_brand_exists = row['extracted_brand']!=''\n",
    "    \n",
    "    if brand_doesnt_exist and extracted_brand_exists:\n",
    "        return row['extracted_brand']\n",
    "    else:\n",
    "        return row['brand']\n",
    "\n",
    "cars_price['brand'] = cars_price.apply(lambda row: complete_brand(row), axis=1)\n",
    "\n",
    "#Remove 'extracted_brand' and 'model' columns\n",
    "cars_price = cars_price.drop(['model', 'extracted_brand'], axis=1)\n",
    "\n",
    "#Replace empty brands with 'unknown'\n",
    "cars_price['brand'] = cars_price['brand'].replace('', 'unknown')\n",
    "\n",
    "cars_price.head()"
   ]
  },
  {
   "cell_type": "markdown",
   "metadata": {},
   "source": [
    "#### 3.4 Clean 'fuel'"
   ]
  },
  {
   "cell_type": "code",
   "execution_count": 13,
   "metadata": {},
   "outputs": [
    {
     "name": "stdout",
     "output_type": "stream",
     "text": [
      "Original fuel types: ['gas', 'diesel', 'other', nan, 'hybrid', 'electric']\n"
     ]
    }
   ],
   "source": [
    "print ('Original fuel types:', list(cars_price['fuel'].unique()))"
   ]
  },
  {
   "cell_type": "code",
   "execution_count": 14,
   "metadata": {},
   "outputs": [
    {
     "name": "stdout",
     "output_type": "stream",
     "text": [
      "Current fuel types: ['gas', 'diesel', 'other', 'unknown', 'hybrid', 'electric']\n"
     ]
    }
   ],
   "source": [
    "#Fill 'nan' with 'unknown'\n",
    "cars_price['fuel'] = cars_price['fuel'].fillna(value='unknown')\n",
    "\n",
    "print ('Current fuel types:', list(cars_price['fuel'].unique()))"
   ]
  },
  {
   "cell_type": "markdown",
   "metadata": {},
   "source": [
    "#### 3.5 Clean 'title_status'"
   ]
  },
  {
   "cell_type": "code",
   "execution_count": 15,
   "metadata": {},
   "outputs": [
    {
     "name": "stdout",
     "output_type": "stream",
     "text": [
      "Original title status: ['clean', 'missing', 'rebuilt', 'salvage', 'lien', 'parts only', nan]\n"
     ]
    }
   ],
   "source": [
    "print ('Original title status:', list(cars_price['title_status'].unique()))"
   ]
  },
  {
   "cell_type": "code",
   "execution_count": 16,
   "metadata": {},
   "outputs": [
    {
     "name": "stdout",
     "output_type": "stream",
     "text": [
      "Current title status: ['clean', 'missing', 'rebuilt', 'salvage', 'lien', 'parts only', 'unknown']\n"
     ]
    }
   ],
   "source": [
    "#Change 'other' and fill 'nan' with 'unknown'\n",
    "cars_price['title_status'] = cars_price['title_status'].fillna(value='unknown')\n",
    "cars_price['title_status'] = cars_price['title_status'].replace('other', 'unknown')\n",
    "\n",
    "print ('Current title status:', list(cars_price['title_status'].unique()))"
   ]
  },
  {
   "cell_type": "markdown",
   "metadata": {},
   "source": [
    "#### 3.6 Clean 'tranmission'"
   ]
  },
  {
   "cell_type": "code",
   "execution_count": 17,
   "metadata": {},
   "outputs": [
    {
     "name": "stdout",
     "output_type": "stream",
     "text": [
      "Original transmission types: ['automatic', 'manual', 'other', nan]\n"
     ]
    }
   ],
   "source": [
    "print ('Original transmission types:', list(cars_price['transmission'].unique()))"
   ]
  },
  {
   "cell_type": "code",
   "execution_count": 18,
   "metadata": {},
   "outputs": [
    {
     "name": "stdout",
     "output_type": "stream",
     "text": [
      "Current transmission types: ['automatic', 'manual', 'other', 'unknown']\n"
     ]
    }
   ],
   "source": [
    "#Fill 'nan' with 'unknown'\n",
    "cars_price['transmission'] = cars_price['transmission'].fillna(value='unknown')\n",
    "\n",
    "print ('Current transmission types:', list(cars_price['transmission'].unique()))"
   ]
  },
  {
   "cell_type": "markdown",
   "metadata": {},
   "source": [
    "### 3. Make model"
   ]
  },
  {
   "cell_type": "markdown",
   "metadata": {},
   "source": [
    "#### 3.1 First version"
   ]
  },
  {
   "cell_type": "code",
   "execution_count": 19,
   "metadata": {},
   "outputs": [],
   "source": [
    "#Set dataframes\n",
    "training_dataset = pd.read_csv('data/clean_train_dataset.csv')\n",
    "test_dataset = pd.get_dummies(cars_price)\n",
    "\n",
    "#Remove 'unknown' columns from 'training_dataset'\n",
    "training_cols = [c for c in training_dataset.columns if c.lower() != 'unknown']\n",
    "training_dataset = training_dataset[training_cols]\n",
    "\n",
    "#Remove 'unknown' columns from 'test_dataset'\n",
    "test_cols = [c for c in test_dataset.columns if c.lower() != 'unknown']\n",
    "test_dataset = test_dataset[test_cols]"
   ]
  },
  {
   "cell_type": "code",
   "execution_count": 20,
   "metadata": {},
   "outputs": [],
   "source": [
    "#In training_dataset, but not in test_dataset\n",
    "training_diff = training_dataset.columns.difference(test_dataset.columns)\n",
    "\n",
    "#Create columns in test_dataset (without 'price')\n",
    "for column in training_diff[:-1]:\n",
    "    test_dataset[column] = 0\n",
    "    \n",
    "#In test_dataset, but not in training\n",
    "test_diff = test_dataset.columns.difference(training_dataset.columns)\n",
    "\n",
    "#Create columns in test_dataset (without 'price')\n",
    "for column in test_diff:\n",
    "    training_dataset[column] = 0"
   ]
  },
  {
   "cell_type": "code",
   "execution_count": 21,
   "metadata": {},
   "outputs": [
    {
     "data": {
      "text/plain": [
       "0.0001923876347346143"
      ]
     },
     "execution_count": 21,
     "metadata": {},
     "output_type": "execute_result"
    }
   ],
   "source": [
    "from sklearn import linear_model\n",
    "\n",
    "x_columns = [col for col in training_dataset.columns.values if col != 'price'] \n",
    "\n",
    "cars_x = training_dataset[x_columns] \n",
    "cars_y = training_dataset['price']\n",
    "\n",
    "cars_model = linear_model.LinearRegression() \n",
    "cars_model.fit(cars_x, cars_y)\n",
    "cars_model.score(cars_x, cars_y)"
   ]
  },
  {
   "cell_type": "code",
   "execution_count": 22,
   "metadata": {},
   "outputs": [],
   "source": [
    "regression = cars_model.predict(test_dataset)"
   ]
  },
  {
   "cell_type": "code",
   "execution_count": 23,
   "metadata": {},
   "outputs": [],
   "source": [
    "submission = pd.read_csv('data/cars_test.csv')\n",
    "submission['price'] = regression\n",
    "submission = submission[['Id', 'price']]\n",
    "\n",
    "submission['price'] = abs(submission['price'])\n",
    "\n",
    "submission.to_csv(r'data/submission.csv', index=False)"
   ]
  }
 ],
 "metadata": {
  "kernelspec": {
   "display_name": "Python 3",
   "language": "python",
   "name": "python3"
  },
  "language_info": {
   "codemirror_mode": {
    "name": "ipython",
    "version": 3
   },
   "file_extension": ".py",
   "mimetype": "text/x-python",
   "name": "python",
   "nbconvert_exporter": "python",
   "pygments_lexer": "ipython3",
   "version": "3.7.3"
  }
 },
 "nbformat": 4,
 "nbformat_minor": 2
}
